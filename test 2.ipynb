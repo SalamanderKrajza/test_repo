{
 "cells": [
  {
   "cell_type": "markdown",
   "metadata": {},
   "source": [
    "# Navigation"
   ]
  },
  {
   "cell_type": "markdown",
   "metadata": {},
   "source": [
    "- [example1](#example1)\n",
    "- [example2](#example2)\n",
    "- [example3](#example3)\n",
    "- [example4](#example4)\n",
    "\n",
    "- [example1][]\n",
    "- [example2][]\n",
    "- [example3][]\n",
    "- [example4][]\n",
    "\n",
    "<p>Go to section</p>\n",
    "<ul>\n",
    "    <li><a href=\"#hello\">Hello</a></li>\n",
    "    <li><a href=\"#hello-world\">Hello World</a></li>\n",
    "    <li><a href=\"#new-section\">Another section</a> &lt;– it’s called ‘Another section’ in this list but refers to ‘New section’</li>\n",
    "</ul>\n",
    "\n",
    "- [example1](https://github.com/SalamanderKrajza/test_repo/blob/main/test.ipynb#example1)\n",
    "- [example2](https://github.com/SalamanderKrajza/test_repo/blob/main/test.ipynb#example2)\n",
    "- [example3](https://github.com/SalamanderKrajza/test_repo/blob/main/test.ipynb#example3)\n",
    "- [example4](https://github.com/SalamanderKrajza/test_repo/blob/main/test.ipynb#example4)\n"
   ]
  },
  {
   "cell_type": "markdown",
   "metadata": {},
   "source": [
    "## example1"
   ]
  },
  {
   "cell_type": "code",
   "execution_count": 5,
   "metadata": {},
   "outputs": [
    {
     "name": "stdout",
     "output_type": "stream",
     "text": [
      "[\n",
      "    1,\n",
      "    2,\n",
      "    3,\n",
      "    4,\n",
      "    5,\n",
      "    6,\n",
      "    7,\n",
      "    8,\n",
      "    9,\n",
      "    10\n",
      "]\n"
     ]
    }
   ],
   "source": [
    "my_random_code_just_to_make_file_longer = [\n",
    "    1,\n",
    "    2,\n",
    "    3,\n",
    "    4,\n",
    "    5,\n",
    "    6,\n",
    "    7,\n",
    "    8,\n",
    "    9,\n",
    "    10\n",
    "]\n",
    "\n",
    "import json\n",
    "print(json.dumps(my_random_code_just_to_make_file_longer, indent=4))"
   ]
  },
  {
   "cell_type": "markdown",
   "metadata": {},
   "source": [
    "## example 2"
   ]
  },
  {
   "cell_type": "code",
   "execution_count": 6,
   "metadata": {},
   "outputs": [
    {
     "name": "stdout",
     "output_type": "stream",
     "text": [
      "[\n",
      "    1,\n",
      "    2,\n",
      "    3,\n",
      "    4,\n",
      "    5,\n",
      "    6,\n",
      "    7,\n",
      "    8,\n",
      "    9,\n",
      "    10\n",
      "]\n"
     ]
    }
   ],
   "source": [
    "my_random_code_just_to_make_file_longer = [\n",
    "    1,\n",
    "    2,\n",
    "    3,\n",
    "    4,\n",
    "    5,\n",
    "    6,\n",
    "    7,\n",
    "    8,\n",
    "    9,\n",
    "    10\n",
    "]\n",
    "\n",
    "import json\n",
    "print(json.dumps(my_random_code_just_to_make_file_longer, indent=4))"
   ]
  },
  {
   "cell_type": "markdown",
   "metadata": {},
   "source": [
    "## example3"
   ]
  },
  {
   "cell_type": "code",
   "execution_count": 7,
   "metadata": {},
   "outputs": [
    {
     "name": "stdout",
     "output_type": "stream",
     "text": [
      "[\n",
      "    1,\n",
      "    2,\n",
      "    3,\n",
      "    4,\n",
      "    5,\n",
      "    6,\n",
      "    7,\n",
      "    8,\n",
      "    9,\n",
      "    10\n",
      "]\n"
     ]
    }
   ],
   "source": [
    "my_random_code_just_to_make_file_longer = [\n",
    "    1,\n",
    "    2,\n",
    "    3,\n",
    "    4,\n",
    "    5,\n",
    "    6,\n",
    "    7,\n",
    "    8,\n",
    "    9,\n",
    "    10\n",
    "]\n",
    "\n",
    "import json\n",
    "print(json.dumps(my_random_code_just_to_make_file_longer, indent=4))"
   ]
  },
  {
   "cell_type": "markdown",
   "metadata": {},
   "source": [
    "## example4"
   ]
  },
  {
   "cell_type": "code",
   "execution_count": 8,
   "metadata": {},
   "outputs": [
    {
     "name": "stdout",
     "output_type": "stream",
     "text": [
      "[\n",
      "    1,\n",
      "    2,\n",
      "    3,\n",
      "    4,\n",
      "    5,\n",
      "    6,\n",
      "    7,\n",
      "    8,\n",
      "    9,\n",
      "    10\n",
      "]\n"
     ]
    }
   ],
   "source": [
    "my_random_code_just_to_make_file_longer = [\n",
    "    1,\n",
    "    2,\n",
    "    3,\n",
    "    4,\n",
    "    5,\n",
    "    6,\n",
    "    7,\n",
    "    8,\n",
    "    9,\n",
    "    10\n",
    "]\n",
    "\n",
    "import json\n",
    "print(json.dumps(my_random_code_just_to_make_file_longer, indent=4))"
   ]
  },
  {
   "cell_type": "markdown",
   "metadata": {},
   "source": [
    "\n",
    "<h2 id=\"hello\">Hello</h2>\n",
    "<h3 id=\"hello-world\">Hello World</h3>\n",
    "<h2 id=\"new-section\">New section</h2>"
   ]
  },
  {
   "cell_type": "code",
   "execution_count": null,
   "metadata": {},
   "outputs": [],
   "source": []
  }
 ],
 "metadata": {
  "kernelspec": {
   "display_name": "Python 3.10.4 64-bit",
   "language": "python",
   "name": "python3"
  },
  "language_info": {
   "codemirror_mode": {
    "name": "ipython",
    "version": 3
   },
   "file_extension": ".py",
   "mimetype": "text/x-python",
   "name": "python",
   "nbconvert_exporter": "python",
   "pygments_lexer": "ipython3",
   "version": "3.10.4"
  },
  "orig_nbformat": 4,
  "vscode": {
   "interpreter": {
    "hash": "a42ccb73e7d9bfdf27e036f1d2b8b681e55fc0743cc5586bc2474d4a60f4b886"
   }
  }
 },
 "nbformat": 4,
 "nbformat_minor": 2
}
